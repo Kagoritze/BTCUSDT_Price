{
  "nbformat": 4,
  "nbformat_minor": 0,
  "metadata": {
    "colab": {
      "provenance": [],
      "authorship_tag": "ABX9TyMvS0pgVNFkTHdGTxPWtznh",
      "include_colab_link": true
    },
    "kernelspec": {
      "name": "python3",
      "display_name": "Python 3"
    },
    "language_info": {
      "name": "python"
    }
  },
  "cells": [
    {
      "cell_type": "markdown",
      "metadata": {
        "id": "view-in-github",
        "colab_type": "text"
      },
      "source": [
        "<a href=\"https://colab.research.google.com/github/Kagoritze/BTCUSDT_Price/blob/main/crypto_arbitrage_analysis.ipynb\" target=\"_parent\"><img src=\"https://colab.research.google.com/assets/colab-badge.svg\" alt=\"Open In Colab\"/></a>"
      ]
    },
    {
      "cell_type": "code",
      "source": [
        "pip install ccxt"
      ],
      "metadata": {
        "colab": {
          "base_uri": "https://localhost:8080/"
        },
        "id": "QQwJS2x63hOB",
        "outputId": "0485e6bc-bb4e-4759-99a5-79246461fc0b"
      },
      "execution_count": 2,
      "outputs": [
        {
          "output_type": "stream",
          "name": "stdout",
          "text": [
            "Collecting ccxt\n",
            "  Downloading ccxt-4.1.98-py2.py3-none-any.whl (4.0 MB)\n",
            "\u001b[2K     \u001b[90m━━━━━━━━━━━━━━━━━━━━━━━━━━━━━━━━━━━━━━━━\u001b[0m \u001b[32m4.0/4.0 MB\u001b[0m \u001b[31m11.5 MB/s\u001b[0m eta \u001b[36m0:00:00\u001b[0m\n",
            "\u001b[?25hRequirement already satisfied: setuptools>=60.9.0 in /usr/local/lib/python3.10/dist-packages (from ccxt) (67.7.2)\n",
            "Requirement already satisfied: certifi>=2018.1.18 in /usr/local/lib/python3.10/dist-packages (from ccxt) (2023.11.17)\n",
            "Requirement already satisfied: requests>=2.18.4 in /usr/local/lib/python3.10/dist-packages (from ccxt) (2.31.0)\n",
            "Requirement already satisfied: cryptography>=2.6.1 in /usr/local/lib/python3.10/dist-packages (from ccxt) (41.0.7)\n",
            "Requirement already satisfied: typing-extensions>=4.4.0 in /usr/local/lib/python3.10/dist-packages (from ccxt) (4.5.0)\n",
            "Requirement already satisfied: aiohttp>=3.8 in /usr/local/lib/python3.10/dist-packages (from ccxt) (3.9.1)\n",
            "Collecting aiodns>=1.1.1 (from ccxt)\n",
            "  Downloading aiodns-3.1.1-py3-none-any.whl (5.4 kB)\n",
            "Requirement already satisfied: yarl>=1.7.2 in /usr/local/lib/python3.10/dist-packages (from ccxt) (1.9.4)\n",
            "Collecting pycares>=4.0.0 (from aiodns>=1.1.1->ccxt)\n",
            "  Downloading pycares-4.4.0-cp310-cp310-manylinux_2_17_x86_64.manylinux2014_x86_64.whl (288 kB)\n",
            "\u001b[2K     \u001b[90m━━━━━━━━━━━━━━━━━━━━━━━━━━━━━━━━━━━━━━━━\u001b[0m \u001b[32m288.7/288.7 kB\u001b[0m \u001b[31m18.1 MB/s\u001b[0m eta \u001b[36m0:00:00\u001b[0m\n",
            "\u001b[?25hRequirement already satisfied: attrs>=17.3.0 in /usr/local/lib/python3.10/dist-packages (from aiohttp>=3.8->ccxt) (23.1.0)\n",
            "Requirement already satisfied: multidict<7.0,>=4.5 in /usr/local/lib/python3.10/dist-packages (from aiohttp>=3.8->ccxt) (6.0.4)\n",
            "Requirement already satisfied: frozenlist>=1.1.1 in /usr/local/lib/python3.10/dist-packages (from aiohttp>=3.8->ccxt) (1.4.1)\n",
            "Requirement already satisfied: aiosignal>=1.1.2 in /usr/local/lib/python3.10/dist-packages (from aiohttp>=3.8->ccxt) (1.3.1)\n",
            "Requirement already satisfied: async-timeout<5.0,>=4.0 in /usr/local/lib/python3.10/dist-packages (from aiohttp>=3.8->ccxt) (4.0.3)\n",
            "Requirement already satisfied: cffi>=1.12 in /usr/local/lib/python3.10/dist-packages (from cryptography>=2.6.1->ccxt) (1.16.0)\n",
            "Requirement already satisfied: charset-normalizer<4,>=2 in /usr/local/lib/python3.10/dist-packages (from requests>=2.18.4->ccxt) (3.3.2)\n",
            "Requirement already satisfied: idna<4,>=2.5 in /usr/local/lib/python3.10/dist-packages (from requests>=2.18.4->ccxt) (3.6)\n",
            "Requirement already satisfied: urllib3<3,>=1.21.1 in /usr/local/lib/python3.10/dist-packages (from requests>=2.18.4->ccxt) (2.0.7)\n",
            "Requirement already satisfied: pycparser in /usr/local/lib/python3.10/dist-packages (from cffi>=1.12->cryptography>=2.6.1->ccxt) (2.21)\n",
            "Installing collected packages: pycares, aiodns, ccxt\n",
            "Successfully installed aiodns-3.1.1 ccxt-4.1.98 pycares-4.4.0\n"
          ]
        }
      ]
    },
    {
      "cell_type": "code",
      "source": [
        "import ccxt\n",
        "\n",
        "# Функция для получения цены с учетом комиссии\n",
        "def get_price_with_commission(exchange, symbol):\n",
        "    ticker = exchange.fetch_ticker(symbol)\n",
        "    # Учет комиссии, если есть\n",
        "    commission_rate = exchange.markets[symbol]['taker']\n",
        "    price_with_commission = ticker['bid'] * (1 + commission_rate)\n",
        "    return price_with_commission, commission_rate\n",
        "\n",
        "# Создаем объекты бирж\n",
        "htx = ccxt.htx()\n",
        "coinbase = ccxt.coinbasepro()\n",
        "bitstamp = ccxt.bitstamp()\n",
        "\n",
        "# Устанавливаем символы (пары) для каждой биржи\n",
        "symbol = 'BTC/USDT'\n",
        "\n",
        "# Получаем цены с учетом комиссии\n",
        "htx_price, htx_commission = get_price_with_commission(htx, symbol)\n",
        "coinbase_price, coinbase_commission = get_price_with_commission(coinbase, symbol)\n",
        "bitstamp_price, bitstamp_commission = get_price_with_commission(bitstamp, symbol)\n",
        "\n",
        "# Выводим результаты\n",
        "print(f'HTX Price: {htx_price}, комиссия: {htx_commission}')\n",
        "print(f'Coinbase Price: {coinbase_price}, комиссия: {coinbase_commission}')\n",
        "print(f'Bitstamp Price: {bitstamp_price}, комиссия: {bitstamp_commission}')\n",
        "\n",
        "# Сравниваем цены\n",
        "price_diff = max(htx_price, coinbase_price, bitstamp_price) - min(htx_price, coinbase_price, bitstamp_price)\n",
        "\n",
        "htx_total_cost = htx_price * 1  # Здесь 1 - это количество BTC, которое желаем купить/продать\n",
        "coinbase_total_cost = coinbase_price * 1\n",
        "bitstamp_total_cost = bitstamp_price * 1\n",
        "\n",
        "best_exchange = min([(htx_total_cost, 'HTX'), (coinbase_total_cost, 'Coinbase'), (bitstamp_total_cost, 'Bitstamp')])\n",
        "\n",
        "if best_exchange[1] == 'HTX':\n",
        "    higher_cost_exchange = max([(coinbase_total_cost, 'Coinbase'), (bitstamp_total_cost, 'Bitstamp')], key=lambda x: x[0])\n",
        "elif best_exchange[1] == 'Coinbase':\n",
        "    higher_cost_exchange = max([(htx_total_cost, 'HTX'), (bitstamp_total_cost, 'Bitstamp')], key=lambda x: x[0])\n",
        "else:\n",
        "    higher_cost_exchange = max([(htx_total_cost, 'HTX'), (coinbase_total_cost, 'Coinbase')], key=lambda x: x[0])\n",
        "\n",
        "print(f'Возможный арбитраж: {best_exchange[1]} (низкая стоимость) и {higher_cost_exchange[1]} (высокая стоимость). Разница в ценах: {price_diff}')"
      ],
      "metadata": {
        "colab": {
          "base_uri": "https://localhost:8080/"
        },
        "id": "tcu0yxcVAFZC",
        "outputId": "ec3be1ed-a627-4d30-ce76-81f08b694765"
      },
      "execution_count": 3,
      "outputs": [
        {
          "output_type": "stream",
          "name": "stdout",
          "text": [
            "HTX Price: 43761.78888, комиссия: 0.002\n",
            "Coinbase Price: 43935.76232, комиссия: 0.006\n",
            "Bitstamp Price: 43887.344999999994, комиссия: 0.005\n",
            "Возможный арбитраж: HTX (низкая стоимость) и Coinbase (высокая стоимость). Разница в ценах: 173.97344000000157\n"
          ]
        }
      ]
    }
  ]
}